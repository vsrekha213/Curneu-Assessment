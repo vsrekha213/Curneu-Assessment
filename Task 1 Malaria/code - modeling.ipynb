{
 "cells": [
  {
   "cell_type": "code",
   "execution_count": 1,
   "metadata": {},
   "outputs": [],
   "source": [
    "import pandas as pd\n",
    "import numpy as np"
   ]
  },
  {
   "cell_type": "markdown",
   "metadata": {},
   "source": [
    "# READING ESTIMATED FILE -- by analyzing this data it is found that these are the statistical analysis done to get insight about the data"
   ]
  },
  {
   "cell_type": "code",
   "execution_count": 59,
   "metadata": {},
   "outputs": [
    {
     "data": {
      "text/html": [
       "<div>\n",
       "<style scoped>\n",
       "    .dataframe tbody tr th:only-of-type {\n",
       "        vertical-align: middle;\n",
       "    }\n",
       "\n",
       "    .dataframe tbody tr th {\n",
       "        vertical-align: top;\n",
       "    }\n",
       "\n",
       "    .dataframe thead th {\n",
       "        text-align: right;\n",
       "    }\n",
       "</style>\n",
       "<table border=\"1\" class=\"dataframe\">\n",
       "  <thead>\n",
       "    <tr style=\"text-align: right;\">\n",
       "      <th></th>\n",
       "      <th>Country</th>\n",
       "      <th>Year</th>\n",
       "      <th>No. of cases</th>\n",
       "      <th>No. of deaths</th>\n",
       "      <th>No. of cases_median</th>\n",
       "      <th>No. of cases_min</th>\n",
       "      <th>No. of cases_max</th>\n",
       "      <th>No. of deaths_median</th>\n",
       "      <th>No. of deaths_min</th>\n",
       "      <th>No. of deaths_max</th>\n",
       "      <th>WHO Region</th>\n",
       "    </tr>\n",
       "  </thead>\n",
       "  <tbody>\n",
       "    <tr>\n",
       "      <th>0</th>\n",
       "      <td>Afghanistan</td>\n",
       "      <td>2017</td>\n",
       "      <td>630308[495000-801000]</td>\n",
       "      <td>298[110-510]</td>\n",
       "      <td>630308</td>\n",
       "      <td>495000.0</td>\n",
       "      <td>801000.0</td>\n",
       "      <td>298</td>\n",
       "      <td>110.0</td>\n",
       "      <td>510.0</td>\n",
       "      <td>Eastern Mediterranean</td>\n",
       "    </tr>\n",
       "    <tr>\n",
       "      <th>1</th>\n",
       "      <td>Algeria</td>\n",
       "      <td>2017</td>\n",
       "      <td>0</td>\n",
       "      <td>0</td>\n",
       "      <td>0</td>\n",
       "      <td>NaN</td>\n",
       "      <td>NaN</td>\n",
       "      <td>0</td>\n",
       "      <td>NaN</td>\n",
       "      <td>NaN</td>\n",
       "      <td>Africa</td>\n",
       "    </tr>\n",
       "    <tr>\n",
       "      <th>2</th>\n",
       "      <td>Angola</td>\n",
       "      <td>2017</td>\n",
       "      <td>4615605[3106000-6661000]</td>\n",
       "      <td>13316[9970-16600]</td>\n",
       "      <td>4615605</td>\n",
       "      <td>3106000.0</td>\n",
       "      <td>6661000.0</td>\n",
       "      <td>13316</td>\n",
       "      <td>9970.0</td>\n",
       "      <td>16600.0</td>\n",
       "      <td>Africa</td>\n",
       "    </tr>\n",
       "    <tr>\n",
       "      <th>3</th>\n",
       "      <td>Argentina</td>\n",
       "      <td>2017</td>\n",
       "      <td>0</td>\n",
       "      <td>0</td>\n",
       "      <td>0</td>\n",
       "      <td>NaN</td>\n",
       "      <td>NaN</td>\n",
       "      <td>0</td>\n",
       "      <td>NaN</td>\n",
       "      <td>NaN</td>\n",
       "      <td>Americas</td>\n",
       "    </tr>\n",
       "    <tr>\n",
       "      <th>4</th>\n",
       "      <td>Armenia</td>\n",
       "      <td>2017</td>\n",
       "      <td>0</td>\n",
       "      <td>0</td>\n",
       "      <td>0</td>\n",
       "      <td>NaN</td>\n",
       "      <td>NaN</td>\n",
       "      <td>0</td>\n",
       "      <td>NaN</td>\n",
       "      <td>NaN</td>\n",
       "      <td>Europe</td>\n",
       "    </tr>\n",
       "  </tbody>\n",
       "</table>\n",
       "</div>"
      ],
      "text/plain": [
       "       Country  Year              No. of cases      No. of deaths  \\\n",
       "0  Afghanistan  2017     630308[495000-801000]       298[110-510]   \n",
       "1      Algeria  2017                         0                  0   \n",
       "2       Angola  2017  4615605[3106000-6661000]  13316[9970-16600]   \n",
       "3    Argentina  2017                         0                  0   \n",
       "4      Armenia  2017                         0                  0   \n",
       "\n",
       "   No. of cases_median  No. of cases_min  No. of cases_max  \\\n",
       "0               630308          495000.0          801000.0   \n",
       "1                    0               NaN               NaN   \n",
       "2              4615605         3106000.0         6661000.0   \n",
       "3                    0               NaN               NaN   \n",
       "4                    0               NaN               NaN   \n",
       "\n",
       "   No. of deaths_median  No. of deaths_min  No. of deaths_max  \\\n",
       "0                   298              110.0              510.0   \n",
       "1                     0                NaN                NaN   \n",
       "2                 13316             9970.0            16600.0   \n",
       "3                     0                NaN                NaN   \n",
       "4                     0                NaN                NaN   \n",
       "\n",
       "              WHO Region  \n",
       "0  Eastern Mediterranean  \n",
       "1                 Africa  \n",
       "2                 Africa  \n",
       "3               Americas  \n",
       "4                 Europe  "
      ]
     },
     "execution_count": 59,
     "metadata": {},
     "output_type": "execute_result"
    }
   ],
   "source": [
    "cases= pd.read_csv('estimated_numbers.csv')\n",
    "cases.head()"
   ]
  },
  {
   "cell_type": "markdown",
   "metadata": {},
   "source": [
    "# REPORTED DATA IS THE MAIN DATA IN WHICH PROCESSING SHOULD BE DONE, HERE NO. OF DEATHS IS THE LABEL, WHICH IS NEEDED TO BE PREDICTED"
   ]
  },
  {
   "cell_type": "code",
   "execution_count": 29,
   "metadata": {},
   "outputs": [
    {
     "data": {
      "text/html": [
       "<div>\n",
       "<style scoped>\n",
       "    .dataframe tbody tr th:only-of-type {\n",
       "        vertical-align: middle;\n",
       "    }\n",
       "\n",
       "    .dataframe tbody tr th {\n",
       "        vertical-align: top;\n",
       "    }\n",
       "\n",
       "    .dataframe thead th {\n",
       "        text-align: right;\n",
       "    }\n",
       "</style>\n",
       "<table border=\"1\" class=\"dataframe\">\n",
       "  <thead>\n",
       "    <tr style=\"text-align: right;\">\n",
       "      <th></th>\n",
       "      <th>Country</th>\n",
       "      <th>Year</th>\n",
       "      <th>No. of cases</th>\n",
       "      <th>No. of deaths</th>\n",
       "      <th>WHO Region</th>\n",
       "    </tr>\n",
       "  </thead>\n",
       "  <tbody>\n",
       "    <tr>\n",
       "      <th>0</th>\n",
       "      <td>Afghanistan</td>\n",
       "      <td>2017</td>\n",
       "      <td>161778.0</td>\n",
       "      <td>10.0</td>\n",
       "      <td>Eastern Mediterranean</td>\n",
       "    </tr>\n",
       "    <tr>\n",
       "      <th>1</th>\n",
       "      <td>Algeria</td>\n",
       "      <td>2017</td>\n",
       "      <td>0.0</td>\n",
       "      <td>0.0</td>\n",
       "      <td>Africa</td>\n",
       "    </tr>\n",
       "    <tr>\n",
       "      <th>2</th>\n",
       "      <td>Angola</td>\n",
       "      <td>2017</td>\n",
       "      <td>3874892.0</td>\n",
       "      <td>13967.0</td>\n",
       "      <td>Africa</td>\n",
       "    </tr>\n",
       "    <tr>\n",
       "      <th>3</th>\n",
       "      <td>Argentina</td>\n",
       "      <td>2017</td>\n",
       "      <td>0.0</td>\n",
       "      <td>1.0</td>\n",
       "      <td>Americas</td>\n",
       "    </tr>\n",
       "    <tr>\n",
       "      <th>4</th>\n",
       "      <td>Armenia</td>\n",
       "      <td>2017</td>\n",
       "      <td>0.0</td>\n",
       "      <td>NaN</td>\n",
       "      <td>Europe</td>\n",
       "    </tr>\n",
       "  </tbody>\n",
       "</table>\n",
       "</div>"
      ],
      "text/plain": [
       "       Country  Year  No. of cases  No. of deaths             WHO Region\n",
       "0  Afghanistan  2017      161778.0           10.0  Eastern Mediterranean\n",
       "1      Algeria  2017           0.0            0.0                 Africa\n",
       "2       Angola  2017     3874892.0        13967.0                 Africa\n",
       "3    Argentina  2017           0.0            1.0               Americas\n",
       "4      Armenia  2017           0.0            NaN                 Europe"
      ]
     },
     "execution_count": 29,
     "metadata": {},
     "output_type": "execute_result"
    }
   ],
   "source": [
    "reports = pd.read_csv('reported_numbers.csv')\n",
    "reports.head()"
   ]
  },
  {
   "cell_type": "markdown",
   "metadata": {},
   "source": [
    "# one thing that can be noticed in incidence data is that No. of deaths is missing "
   ]
  },
  {
   "cell_type": "code",
   "execution_count": 3,
   "metadata": {},
   "outputs": [
    {
     "data": {
      "text/html": [
       "<div>\n",
       "<style scoped>\n",
       "    .dataframe tbody tr th:only-of-type {\n",
       "        vertical-align: middle;\n",
       "    }\n",
       "\n",
       "    .dataframe tbody tr th {\n",
       "        vertical-align: top;\n",
       "    }\n",
       "\n",
       "    .dataframe thead th {\n",
       "        text-align: right;\n",
       "    }\n",
       "</style>\n",
       "<table border=\"1\" class=\"dataframe\">\n",
       "  <thead>\n",
       "    <tr style=\"text-align: right;\">\n",
       "      <th></th>\n",
       "      <th>Country</th>\n",
       "      <th>Year</th>\n",
       "      <th>No. of cases</th>\n",
       "      <th>WHO Region</th>\n",
       "    </tr>\n",
       "  </thead>\n",
       "  <tbody>\n",
       "    <tr>\n",
       "      <th>0</th>\n",
       "      <td>Afghanistan</td>\n",
       "      <td>2018</td>\n",
       "      <td>29.01</td>\n",
       "      <td>Eastern Mediterranean</td>\n",
       "    </tr>\n",
       "    <tr>\n",
       "      <th>1</th>\n",
       "      <td>Algeria</td>\n",
       "      <td>2018</td>\n",
       "      <td>0.00</td>\n",
       "      <td>Africa</td>\n",
       "    </tr>\n",
       "    <tr>\n",
       "      <th>2</th>\n",
       "      <td>Angola</td>\n",
       "      <td>2018</td>\n",
       "      <td>228.91</td>\n",
       "      <td>Africa</td>\n",
       "    </tr>\n",
       "    <tr>\n",
       "      <th>3</th>\n",
       "      <td>Argentina</td>\n",
       "      <td>2018</td>\n",
       "      <td>0.00</td>\n",
       "      <td>Americas</td>\n",
       "    </tr>\n",
       "    <tr>\n",
       "      <th>4</th>\n",
       "      <td>Armenia</td>\n",
       "      <td>2018</td>\n",
       "      <td>0.00</td>\n",
       "      <td>Europe</td>\n",
       "    </tr>\n",
       "  </tbody>\n",
       "</table>\n",
       "</div>"
      ],
      "text/plain": [
       "       Country  Year  No. of cases             WHO Region\n",
       "0  Afghanistan  2018         29.01  Eastern Mediterranean\n",
       "1      Algeria  2018          0.00                 Africa\n",
       "2       Angola  2018        228.91                 Africa\n",
       "3    Argentina  2018          0.00               Americas\n",
       "4      Armenia  2018          0.00                 Europe"
      ]
     },
     "execution_count": 3,
     "metadata": {},
     "output_type": "execute_result"
    }
   ],
   "source": [
    "incidence = pd.read_csv('incidence_per_1000_pop_at_risk.csv')\n",
    "incidence.head()\n"
   ]
  },
  {
   "cell_type": "code",
   "execution_count": 30,
   "metadata": {},
   "outputs": [
    {
     "data": {
      "text/plain": [
       "19"
      ]
     },
     "execution_count": 30,
     "metadata": {},
     "output_type": "execute_result"
    }
   ],
   "source": [
    "len(incidence['Year'].unique())"
   ]
  },
  {
   "cell_type": "code",
   "execution_count": 31,
   "metadata": {},
   "outputs": [
    {
     "data": {
      "text/plain": [
       "array([2017, 2016, 2015, 2014, 2013, 2012, 2011, 2010], dtype=int64)"
      ]
     },
     "execution_count": 31,
     "metadata": {},
     "output_type": "execute_result"
    }
   ],
   "source": [
    "cases['Year'].unique()"
   ]
  },
  {
   "cell_type": "code",
   "execution_count": 32,
   "metadata": {},
   "outputs": [
    {
     "data": {
      "text/plain": [
       "18"
      ]
     },
     "execution_count": 32,
     "metadata": {},
     "output_type": "execute_result"
    }
   ],
   "source": [
    "len(reports['Year'].unique())"
   ]
  },
  {
   "cell_type": "code",
   "execution_count": 33,
   "metadata": {},
   "outputs": [
    {
     "data": {
      "text/plain": [
       "(1944, 5)"
      ]
     },
     "execution_count": 33,
     "metadata": {},
     "output_type": "execute_result"
    }
   ],
   "source": [
    "reports.shape"
   ]
  },
  {
   "cell_type": "code",
   "execution_count": 34,
   "metadata": {},
   "outputs": [
    {
     "data": {
      "text/plain": [
       "Country            0\n",
       "Year               0\n",
       "No. of cases     234\n",
       "No. of deaths    269\n",
       "WHO Region         0\n",
       "dtype: int64"
      ]
     },
     "execution_count": 34,
     "metadata": {},
     "output_type": "execute_result"
    }
   ],
   "source": [
    "reports.isnull().sum()"
   ]
  },
  {
   "cell_type": "code",
   "execution_count": 35,
   "metadata": {},
   "outputs": [
    {
     "data": {
      "text/plain": [
       "Country           object\n",
       "Year               int64\n",
       "No. of cases     float64\n",
       "No. of deaths    float64\n",
       "WHO Region        object\n",
       "dtype: object"
      ]
     },
     "execution_count": 35,
     "metadata": {},
     "output_type": "execute_result"
    }
   ],
   "source": [
    "reports.dtypes"
   ]
  },
  {
   "cell_type": "markdown",
   "metadata": {},
   "source": [
    "# ENCODING"
   ]
  },
  {
   "cell_type": "code",
   "execution_count": 36,
   "metadata": {},
   "outputs": [],
   "source": [
    "reports = pd.get_dummies(reports,drop_first=True)"
   ]
  },
  {
   "cell_type": "code",
   "execution_count": 37,
   "metadata": {},
   "outputs": [],
   "source": [
    "reports = reports.fillna(0)"
   ]
  },
  {
   "cell_type": "code",
   "execution_count": 38,
   "metadata": {},
   "outputs": [
    {
     "data": {
      "text/plain": [
       "Year                                0\n",
       "No. of cases                        0\n",
       "No. of deaths                       0\n",
       "Country_Algeria                     0\n",
       "Country_Angola                      0\n",
       "                                   ..\n",
       "WHO Region_Americas                 0\n",
       "WHO Region_Eastern Mediterranean    0\n",
       "WHO Region_Europe                   0\n",
       "WHO Region_South-East Asia          0\n",
       "WHO Region_Western Pacific          0\n",
       "Length: 115, dtype: int64"
      ]
     },
     "execution_count": 38,
     "metadata": {},
     "output_type": "execute_result"
    }
   ],
   "source": [
    "reports.isnull().sum()"
   ]
  },
  {
   "cell_type": "code",
   "execution_count": null,
   "metadata": {},
   "outputs": [],
   "source": []
  },
  {
   "cell_type": "code",
   "execution_count": 14,
   "metadata": {},
   "outputs": [],
   "source": [
    "y = reports['No. of deaths']\n",
    "X = reports.drop(['No. of deaths'],axis=1)\n"
   ]
  },
  {
   "cell_type": "code",
   "execution_count": 39,
   "metadata": {},
   "outputs": [
    {
     "data": {
      "text/html": [
       "<div>\n",
       "<style scoped>\n",
       "    .dataframe tbody tr th:only-of-type {\n",
       "        vertical-align: middle;\n",
       "    }\n",
       "\n",
       "    .dataframe tbody tr th {\n",
       "        vertical-align: top;\n",
       "    }\n",
       "\n",
       "    .dataframe thead th {\n",
       "        text-align: right;\n",
       "    }\n",
       "</style>\n",
       "<table border=\"1\" class=\"dataframe\">\n",
       "  <thead>\n",
       "    <tr style=\"text-align: right;\">\n",
       "      <th></th>\n",
       "      <th>0</th>\n",
       "      <th>1</th>\n",
       "      <th>2</th>\n",
       "      <th>3</th>\n",
       "      <th>4</th>\n",
       "      <th>5</th>\n",
       "      <th>6</th>\n",
       "      <th>7</th>\n",
       "      <th>8</th>\n",
       "      <th>9</th>\n",
       "      <th>...</th>\n",
       "      <th>105</th>\n",
       "      <th>106</th>\n",
       "      <th>107</th>\n",
       "      <th>108</th>\n",
       "      <th>109</th>\n",
       "      <th>110</th>\n",
       "      <th>111</th>\n",
       "      <th>112</th>\n",
       "      <th>113</th>\n",
       "      <th>114</th>\n",
       "    </tr>\n",
       "  </thead>\n",
       "  <tbody>\n",
       "    <tr>\n",
       "      <th>0</th>\n",
       "      <td>1.638356</td>\n",
       "      <td>-0.151150</td>\n",
       "      <td>-0.274805</td>\n",
       "      <td>-0.096674</td>\n",
       "      <td>-0.096674</td>\n",
       "      <td>-0.096674</td>\n",
       "      <td>-0.096674</td>\n",
       "      <td>-0.096674</td>\n",
       "      <td>-0.096674</td>\n",
       "      <td>-0.096674</td>\n",
       "      <td>...</td>\n",
       "      <td>-0.096674</td>\n",
       "      <td>-0.096674</td>\n",
       "      <td>-0.096674</td>\n",
       "      <td>-0.096674</td>\n",
       "      <td>-0.096674</td>\n",
       "      <td>-0.491304</td>\n",
       "      <td>2.591194</td>\n",
       "      <td>-0.301511</td>\n",
       "      <td>-0.301511</td>\n",
       "      <td>-0.336752</td>\n",
       "    </tr>\n",
       "    <tr>\n",
       "      <th>1</th>\n",
       "      <td>1.638356</td>\n",
       "      <td>-0.286218</td>\n",
       "      <td>-0.277301</td>\n",
       "      <td>10.344080</td>\n",
       "      <td>-0.096674</td>\n",
       "      <td>-0.096674</td>\n",
       "      <td>-0.096674</td>\n",
       "      <td>-0.096674</td>\n",
       "      <td>-0.096674</td>\n",
       "      <td>-0.096674</td>\n",
       "      <td>...</td>\n",
       "      <td>-0.096674</td>\n",
       "      <td>-0.096674</td>\n",
       "      <td>-0.096674</td>\n",
       "      <td>-0.096674</td>\n",
       "      <td>-0.096674</td>\n",
       "      <td>-0.491304</td>\n",
       "      <td>-0.385922</td>\n",
       "      <td>-0.301511</td>\n",
       "      <td>-0.301511</td>\n",
       "      <td>-0.336752</td>\n",
       "    </tr>\n",
       "    <tr>\n",
       "      <th>2</th>\n",
       "      <td>1.638356</td>\n",
       "      <td>2.948919</td>\n",
       "      <td>3.208825</td>\n",
       "      <td>-0.096674</td>\n",
       "      <td>10.344080</td>\n",
       "      <td>-0.096674</td>\n",
       "      <td>-0.096674</td>\n",
       "      <td>-0.096674</td>\n",
       "      <td>-0.096674</td>\n",
       "      <td>-0.096674</td>\n",
       "      <td>...</td>\n",
       "      <td>-0.096674</td>\n",
       "      <td>-0.096674</td>\n",
       "      <td>-0.096674</td>\n",
       "      <td>-0.096674</td>\n",
       "      <td>-0.096674</td>\n",
       "      <td>-0.491304</td>\n",
       "      <td>-0.385922</td>\n",
       "      <td>-0.301511</td>\n",
       "      <td>-0.301511</td>\n",
       "      <td>-0.336752</td>\n",
       "    </tr>\n",
       "    <tr>\n",
       "      <th>3</th>\n",
       "      <td>1.638356</td>\n",
       "      <td>-0.286218</td>\n",
       "      <td>-0.277051</td>\n",
       "      <td>-0.096674</td>\n",
       "      <td>-0.096674</td>\n",
       "      <td>10.344080</td>\n",
       "      <td>-0.096674</td>\n",
       "      <td>-0.096674</td>\n",
       "      <td>-0.096674</td>\n",
       "      <td>-0.096674</td>\n",
       "      <td>...</td>\n",
       "      <td>-0.096674</td>\n",
       "      <td>-0.096674</td>\n",
       "      <td>-0.096674</td>\n",
       "      <td>-0.096674</td>\n",
       "      <td>-0.096674</td>\n",
       "      <td>2.035401</td>\n",
       "      <td>-0.385922</td>\n",
       "      <td>-0.301511</td>\n",
       "      <td>-0.301511</td>\n",
       "      <td>-0.336752</td>\n",
       "    </tr>\n",
       "    <tr>\n",
       "      <th>4</th>\n",
       "      <td>1.638356</td>\n",
       "      <td>-0.286218</td>\n",
       "      <td>-0.277301</td>\n",
       "      <td>-0.096674</td>\n",
       "      <td>-0.096674</td>\n",
       "      <td>-0.096674</td>\n",
       "      <td>10.344080</td>\n",
       "      <td>-0.096674</td>\n",
       "      <td>-0.096674</td>\n",
       "      <td>-0.096674</td>\n",
       "      <td>...</td>\n",
       "      <td>-0.096674</td>\n",
       "      <td>-0.096674</td>\n",
       "      <td>-0.096674</td>\n",
       "      <td>-0.096674</td>\n",
       "      <td>-0.096674</td>\n",
       "      <td>-0.491304</td>\n",
       "      <td>-0.385922</td>\n",
       "      <td>3.316625</td>\n",
       "      <td>-0.301511</td>\n",
       "      <td>-0.336752</td>\n",
       "    </tr>\n",
       "    <tr>\n",
       "      <th>...</th>\n",
       "      <td>...</td>\n",
       "      <td>...</td>\n",
       "      <td>...</td>\n",
       "      <td>...</td>\n",
       "      <td>...</td>\n",
       "      <td>...</td>\n",
       "      <td>...</td>\n",
       "      <td>...</td>\n",
       "      <td>...</td>\n",
       "      <td>...</td>\n",
       "      <td>...</td>\n",
       "      <td>...</td>\n",
       "      <td>...</td>\n",
       "      <td>...</td>\n",
       "      <td>...</td>\n",
       "      <td>...</td>\n",
       "      <td>...</td>\n",
       "      <td>...</td>\n",
       "      <td>...</td>\n",
       "      <td>...</td>\n",
       "      <td>...</td>\n",
       "    </tr>\n",
       "    <tr>\n",
       "      <th>1939</th>\n",
       "      <td>-1.638356</td>\n",
       "      <td>-0.261392</td>\n",
       "      <td>-0.271310</td>\n",
       "      <td>-0.096674</td>\n",
       "      <td>-0.096674</td>\n",
       "      <td>-0.096674</td>\n",
       "      <td>-0.096674</td>\n",
       "      <td>-0.096674</td>\n",
       "      <td>-0.096674</td>\n",
       "      <td>-0.096674</td>\n",
       "      <td>...</td>\n",
       "      <td>10.344080</td>\n",
       "      <td>-0.096674</td>\n",
       "      <td>-0.096674</td>\n",
       "      <td>-0.096674</td>\n",
       "      <td>-0.096674</td>\n",
       "      <td>2.035401</td>\n",
       "      <td>-0.385922</td>\n",
       "      <td>-0.301511</td>\n",
       "      <td>-0.301511</td>\n",
       "      <td>-0.336752</td>\n",
       "    </tr>\n",
       "    <tr>\n",
       "      <th>1940</th>\n",
       "      <td>-1.638356</td>\n",
       "      <td>-0.224172</td>\n",
       "      <td>-0.241858</td>\n",
       "      <td>-0.096674</td>\n",
       "      <td>-0.096674</td>\n",
       "      <td>-0.096674</td>\n",
       "      <td>-0.096674</td>\n",
       "      <td>-0.096674</td>\n",
       "      <td>-0.096674</td>\n",
       "      <td>-0.096674</td>\n",
       "      <td>...</td>\n",
       "      <td>-0.096674</td>\n",
       "      <td>10.344080</td>\n",
       "      <td>-0.096674</td>\n",
       "      <td>-0.096674</td>\n",
       "      <td>-0.096674</td>\n",
       "      <td>-0.491304</td>\n",
       "      <td>-0.385922</td>\n",
       "      <td>-0.301511</td>\n",
       "      <td>-0.301511</td>\n",
       "      <td>2.969542</td>\n",
       "    </tr>\n",
       "    <tr>\n",
       "      <th>1941</th>\n",
       "      <td>-1.638356</td>\n",
       "      <td>0.878042</td>\n",
       "      <td>-0.277301</td>\n",
       "      <td>-0.096674</td>\n",
       "      <td>-0.096674</td>\n",
       "      <td>-0.096674</td>\n",
       "      <td>-0.096674</td>\n",
       "      <td>-0.096674</td>\n",
       "      <td>-0.096674</td>\n",
       "      <td>-0.096674</td>\n",
       "      <td>...</td>\n",
       "      <td>-0.096674</td>\n",
       "      <td>-0.096674</td>\n",
       "      <td>10.344080</td>\n",
       "      <td>-0.096674</td>\n",
       "      <td>-0.096674</td>\n",
       "      <td>-0.491304</td>\n",
       "      <td>2.591194</td>\n",
       "      <td>-0.301511</td>\n",
       "      <td>-0.301511</td>\n",
       "      <td>-0.336752</td>\n",
       "    </tr>\n",
       "    <tr>\n",
       "      <th>1942</th>\n",
       "      <td>-1.638356</td>\n",
       "      <td>-0.286218</td>\n",
       "      <td>-0.277301</td>\n",
       "      <td>-0.096674</td>\n",
       "      <td>-0.096674</td>\n",
       "      <td>-0.096674</td>\n",
       "      <td>-0.096674</td>\n",
       "      <td>-0.096674</td>\n",
       "      <td>-0.096674</td>\n",
       "      <td>-0.096674</td>\n",
       "      <td>...</td>\n",
       "      <td>-0.096674</td>\n",
       "      <td>-0.096674</td>\n",
       "      <td>-0.096674</td>\n",
       "      <td>10.344080</td>\n",
       "      <td>-0.096674</td>\n",
       "      <td>-0.491304</td>\n",
       "      <td>-0.385922</td>\n",
       "      <td>-0.301511</td>\n",
       "      <td>-0.301511</td>\n",
       "      <td>-0.336752</td>\n",
       "    </tr>\n",
       "    <tr>\n",
       "      <th>1943</th>\n",
       "      <td>-1.638356</td>\n",
       "      <td>-0.286218</td>\n",
       "      <td>-0.277301</td>\n",
       "      <td>-0.096674</td>\n",
       "      <td>-0.096674</td>\n",
       "      <td>-0.096674</td>\n",
       "      <td>-0.096674</td>\n",
       "      <td>-0.096674</td>\n",
       "      <td>-0.096674</td>\n",
       "      <td>-0.096674</td>\n",
       "      <td>...</td>\n",
       "      <td>-0.096674</td>\n",
       "      <td>-0.096674</td>\n",
       "      <td>-0.096674</td>\n",
       "      <td>-0.096674</td>\n",
       "      <td>10.344080</td>\n",
       "      <td>-0.491304</td>\n",
       "      <td>-0.385922</td>\n",
       "      <td>-0.301511</td>\n",
       "      <td>-0.301511</td>\n",
       "      <td>-0.336752</td>\n",
       "    </tr>\n",
       "  </tbody>\n",
       "</table>\n",
       "<p>1944 rows × 115 columns</p>\n",
       "</div>"
      ],
      "text/plain": [
       "           0         1         2          3          4          5    \\\n",
       "0     1.638356 -0.151150 -0.274805  -0.096674  -0.096674  -0.096674   \n",
       "1     1.638356 -0.286218 -0.277301  10.344080  -0.096674  -0.096674   \n",
       "2     1.638356  2.948919  3.208825  -0.096674  10.344080  -0.096674   \n",
       "3     1.638356 -0.286218 -0.277051  -0.096674  -0.096674  10.344080   \n",
       "4     1.638356 -0.286218 -0.277301  -0.096674  -0.096674  -0.096674   \n",
       "...        ...       ...       ...        ...        ...        ...   \n",
       "1939 -1.638356 -0.261392 -0.271310  -0.096674  -0.096674  -0.096674   \n",
       "1940 -1.638356 -0.224172 -0.241858  -0.096674  -0.096674  -0.096674   \n",
       "1941 -1.638356  0.878042 -0.277301  -0.096674  -0.096674  -0.096674   \n",
       "1942 -1.638356 -0.286218 -0.277301  -0.096674  -0.096674  -0.096674   \n",
       "1943 -1.638356 -0.286218 -0.277301  -0.096674  -0.096674  -0.096674   \n",
       "\n",
       "            6         7         8         9    ...        105        106  \\\n",
       "0     -0.096674 -0.096674 -0.096674 -0.096674  ...  -0.096674  -0.096674   \n",
       "1     -0.096674 -0.096674 -0.096674 -0.096674  ...  -0.096674  -0.096674   \n",
       "2     -0.096674 -0.096674 -0.096674 -0.096674  ...  -0.096674  -0.096674   \n",
       "3     -0.096674 -0.096674 -0.096674 -0.096674  ...  -0.096674  -0.096674   \n",
       "4     10.344080 -0.096674 -0.096674 -0.096674  ...  -0.096674  -0.096674   \n",
       "...         ...       ...       ...       ...  ...        ...        ...   \n",
       "1939  -0.096674 -0.096674 -0.096674 -0.096674  ...  10.344080  -0.096674   \n",
       "1940  -0.096674 -0.096674 -0.096674 -0.096674  ...  -0.096674  10.344080   \n",
       "1941  -0.096674 -0.096674 -0.096674 -0.096674  ...  -0.096674  -0.096674   \n",
       "1942  -0.096674 -0.096674 -0.096674 -0.096674  ...  -0.096674  -0.096674   \n",
       "1943  -0.096674 -0.096674 -0.096674 -0.096674  ...  -0.096674  -0.096674   \n",
       "\n",
       "            107        108        109       110       111       112       113  \\\n",
       "0     -0.096674  -0.096674  -0.096674 -0.491304  2.591194 -0.301511 -0.301511   \n",
       "1     -0.096674  -0.096674  -0.096674 -0.491304 -0.385922 -0.301511 -0.301511   \n",
       "2     -0.096674  -0.096674  -0.096674 -0.491304 -0.385922 -0.301511 -0.301511   \n",
       "3     -0.096674  -0.096674  -0.096674  2.035401 -0.385922 -0.301511 -0.301511   \n",
       "4     -0.096674  -0.096674  -0.096674 -0.491304 -0.385922  3.316625 -0.301511   \n",
       "...         ...        ...        ...       ...       ...       ...       ...   \n",
       "1939  -0.096674  -0.096674  -0.096674  2.035401 -0.385922 -0.301511 -0.301511   \n",
       "1940  -0.096674  -0.096674  -0.096674 -0.491304 -0.385922 -0.301511 -0.301511   \n",
       "1941  10.344080  -0.096674  -0.096674 -0.491304  2.591194 -0.301511 -0.301511   \n",
       "1942  -0.096674  10.344080  -0.096674 -0.491304 -0.385922 -0.301511 -0.301511   \n",
       "1943  -0.096674  -0.096674  10.344080 -0.491304 -0.385922 -0.301511 -0.301511   \n",
       "\n",
       "           114  \n",
       "0    -0.336752  \n",
       "1    -0.336752  \n",
       "2    -0.336752  \n",
       "3    -0.336752  \n",
       "4    -0.336752  \n",
       "...        ...  \n",
       "1939 -0.336752  \n",
       "1940  2.969542  \n",
       "1941 -0.336752  \n",
       "1942 -0.336752  \n",
       "1943 -0.336752  \n",
       "\n",
       "[1944 rows x 115 columns]"
      ]
     },
     "execution_count": 39,
     "metadata": {},
     "output_type": "execute_result"
    }
   ],
   "source": [
    "from sklearn.preprocessing import StandardScaler\n",
    "sc_X = StandardScaler()\n",
    "sc_X = sc_X.fit_transform(reports)\n",
    "#Convert to table format - StandardScaler \n",
    "sc_X = pd.DataFrame(data=sc_X)\n",
    "sc_X"
   ]
  },
  {
   "cell_type": "code",
   "execution_count": 40,
   "metadata": {},
   "outputs": [
    {
     "data": {
      "text/html": [
       "<div>\n",
       "<style scoped>\n",
       "    .dataframe tbody tr th:only-of-type {\n",
       "        vertical-align: middle;\n",
       "    }\n",
       "\n",
       "    .dataframe tbody tr th {\n",
       "        vertical-align: top;\n",
       "    }\n",
       "\n",
       "    .dataframe thead th {\n",
       "        text-align: right;\n",
       "    }\n",
       "</style>\n",
       "<table border=\"1\" class=\"dataframe\">\n",
       "  <thead>\n",
       "    <tr style=\"text-align: right;\">\n",
       "      <th></th>\n",
       "      <th>2</th>\n",
       "    </tr>\n",
       "  </thead>\n",
       "  <tbody>\n",
       "    <tr>\n",
       "      <th>0</th>\n",
       "      <td>-0.274805</td>\n",
       "    </tr>\n",
       "    <tr>\n",
       "      <th>1</th>\n",
       "      <td>-0.277301</td>\n",
       "    </tr>\n",
       "    <tr>\n",
       "      <th>2</th>\n",
       "      <td>3.208825</td>\n",
       "    </tr>\n",
       "    <tr>\n",
       "      <th>3</th>\n",
       "      <td>-0.277051</td>\n",
       "    </tr>\n",
       "    <tr>\n",
       "      <th>4</th>\n",
       "      <td>-0.277301</td>\n",
       "    </tr>\n",
       "    <tr>\n",
       "      <th>...</th>\n",
       "      <td>...</td>\n",
       "    </tr>\n",
       "    <tr>\n",
       "      <th>1939</th>\n",
       "      <td>-0.271310</td>\n",
       "    </tr>\n",
       "    <tr>\n",
       "      <th>1940</th>\n",
       "      <td>-0.241858</td>\n",
       "    </tr>\n",
       "    <tr>\n",
       "      <th>1941</th>\n",
       "      <td>-0.277301</td>\n",
       "    </tr>\n",
       "    <tr>\n",
       "      <th>1942</th>\n",
       "      <td>-0.277301</td>\n",
       "    </tr>\n",
       "    <tr>\n",
       "      <th>1943</th>\n",
       "      <td>-0.277301</td>\n",
       "    </tr>\n",
       "  </tbody>\n",
       "</table>\n",
       "<p>1944 rows × 1 columns</p>\n",
       "</div>"
      ],
      "text/plain": [
       "             2\n",
       "0    -0.274805\n",
       "1    -0.277301\n",
       "2     3.208825\n",
       "3    -0.277051\n",
       "4    -0.277301\n",
       "...        ...\n",
       "1939 -0.271310\n",
       "1940 -0.241858\n",
       "1941 -0.277301\n",
       "1942 -0.277301\n",
       "1943 -0.277301\n",
       "\n",
       "[1944 rows x 1 columns]"
      ]
     },
     "execution_count": 40,
     "metadata": {},
     "output_type": "execute_result"
    }
   ],
   "source": [
    "y = sc_X[2]\n",
    "y = pd.DataFrame(y)\n",
    "y"
   ]
  },
  {
   "cell_type": "code",
   "execution_count": 41,
   "metadata": {},
   "outputs": [
    {
     "data": {
      "text/html": [
       "<div>\n",
       "<style scoped>\n",
       "    .dataframe tbody tr th:only-of-type {\n",
       "        vertical-align: middle;\n",
       "    }\n",
       "\n",
       "    .dataframe tbody tr th {\n",
       "        vertical-align: top;\n",
       "    }\n",
       "\n",
       "    .dataframe thead th {\n",
       "        text-align: right;\n",
       "    }\n",
       "</style>\n",
       "<table border=\"1\" class=\"dataframe\">\n",
       "  <thead>\n",
       "    <tr style=\"text-align: right;\">\n",
       "      <th></th>\n",
       "      <th>0</th>\n",
       "      <th>1</th>\n",
       "      <th>3</th>\n",
       "      <th>4</th>\n",
       "      <th>5</th>\n",
       "      <th>6</th>\n",
       "      <th>7</th>\n",
       "      <th>8</th>\n",
       "      <th>9</th>\n",
       "      <th>10</th>\n",
       "      <th>...</th>\n",
       "      <th>105</th>\n",
       "      <th>106</th>\n",
       "      <th>107</th>\n",
       "      <th>108</th>\n",
       "      <th>109</th>\n",
       "      <th>110</th>\n",
       "      <th>111</th>\n",
       "      <th>112</th>\n",
       "      <th>113</th>\n",
       "      <th>114</th>\n",
       "    </tr>\n",
       "  </thead>\n",
       "  <tbody>\n",
       "    <tr>\n",
       "      <th>0</th>\n",
       "      <td>1.638356</td>\n",
       "      <td>-0.151150</td>\n",
       "      <td>-0.096674</td>\n",
       "      <td>-0.096674</td>\n",
       "      <td>-0.096674</td>\n",
       "      <td>-0.096674</td>\n",
       "      <td>-0.096674</td>\n",
       "      <td>-0.096674</td>\n",
       "      <td>-0.096674</td>\n",
       "      <td>-0.096674</td>\n",
       "      <td>...</td>\n",
       "      <td>-0.096674</td>\n",
       "      <td>-0.096674</td>\n",
       "      <td>-0.096674</td>\n",
       "      <td>-0.096674</td>\n",
       "      <td>-0.096674</td>\n",
       "      <td>-0.491304</td>\n",
       "      <td>2.591194</td>\n",
       "      <td>-0.301511</td>\n",
       "      <td>-0.301511</td>\n",
       "      <td>-0.336752</td>\n",
       "    </tr>\n",
       "    <tr>\n",
       "      <th>1</th>\n",
       "      <td>1.638356</td>\n",
       "      <td>-0.286218</td>\n",
       "      <td>10.344080</td>\n",
       "      <td>-0.096674</td>\n",
       "      <td>-0.096674</td>\n",
       "      <td>-0.096674</td>\n",
       "      <td>-0.096674</td>\n",
       "      <td>-0.096674</td>\n",
       "      <td>-0.096674</td>\n",
       "      <td>-0.096674</td>\n",
       "      <td>...</td>\n",
       "      <td>-0.096674</td>\n",
       "      <td>-0.096674</td>\n",
       "      <td>-0.096674</td>\n",
       "      <td>-0.096674</td>\n",
       "      <td>-0.096674</td>\n",
       "      <td>-0.491304</td>\n",
       "      <td>-0.385922</td>\n",
       "      <td>-0.301511</td>\n",
       "      <td>-0.301511</td>\n",
       "      <td>-0.336752</td>\n",
       "    </tr>\n",
       "    <tr>\n",
       "      <th>2</th>\n",
       "      <td>1.638356</td>\n",
       "      <td>2.948919</td>\n",
       "      <td>-0.096674</td>\n",
       "      <td>10.344080</td>\n",
       "      <td>-0.096674</td>\n",
       "      <td>-0.096674</td>\n",
       "      <td>-0.096674</td>\n",
       "      <td>-0.096674</td>\n",
       "      <td>-0.096674</td>\n",
       "      <td>-0.096674</td>\n",
       "      <td>...</td>\n",
       "      <td>-0.096674</td>\n",
       "      <td>-0.096674</td>\n",
       "      <td>-0.096674</td>\n",
       "      <td>-0.096674</td>\n",
       "      <td>-0.096674</td>\n",
       "      <td>-0.491304</td>\n",
       "      <td>-0.385922</td>\n",
       "      <td>-0.301511</td>\n",
       "      <td>-0.301511</td>\n",
       "      <td>-0.336752</td>\n",
       "    </tr>\n",
       "    <tr>\n",
       "      <th>3</th>\n",
       "      <td>1.638356</td>\n",
       "      <td>-0.286218</td>\n",
       "      <td>-0.096674</td>\n",
       "      <td>-0.096674</td>\n",
       "      <td>10.344080</td>\n",
       "      <td>-0.096674</td>\n",
       "      <td>-0.096674</td>\n",
       "      <td>-0.096674</td>\n",
       "      <td>-0.096674</td>\n",
       "      <td>-0.096674</td>\n",
       "      <td>...</td>\n",
       "      <td>-0.096674</td>\n",
       "      <td>-0.096674</td>\n",
       "      <td>-0.096674</td>\n",
       "      <td>-0.096674</td>\n",
       "      <td>-0.096674</td>\n",
       "      <td>2.035401</td>\n",
       "      <td>-0.385922</td>\n",
       "      <td>-0.301511</td>\n",
       "      <td>-0.301511</td>\n",
       "      <td>-0.336752</td>\n",
       "    </tr>\n",
       "    <tr>\n",
       "      <th>4</th>\n",
       "      <td>1.638356</td>\n",
       "      <td>-0.286218</td>\n",
       "      <td>-0.096674</td>\n",
       "      <td>-0.096674</td>\n",
       "      <td>-0.096674</td>\n",
       "      <td>10.344080</td>\n",
       "      <td>-0.096674</td>\n",
       "      <td>-0.096674</td>\n",
       "      <td>-0.096674</td>\n",
       "      <td>-0.096674</td>\n",
       "      <td>...</td>\n",
       "      <td>-0.096674</td>\n",
       "      <td>-0.096674</td>\n",
       "      <td>-0.096674</td>\n",
       "      <td>-0.096674</td>\n",
       "      <td>-0.096674</td>\n",
       "      <td>-0.491304</td>\n",
       "      <td>-0.385922</td>\n",
       "      <td>3.316625</td>\n",
       "      <td>-0.301511</td>\n",
       "      <td>-0.336752</td>\n",
       "    </tr>\n",
       "    <tr>\n",
       "      <th>...</th>\n",
       "      <td>...</td>\n",
       "      <td>...</td>\n",
       "      <td>...</td>\n",
       "      <td>...</td>\n",
       "      <td>...</td>\n",
       "      <td>...</td>\n",
       "      <td>...</td>\n",
       "      <td>...</td>\n",
       "      <td>...</td>\n",
       "      <td>...</td>\n",
       "      <td>...</td>\n",
       "      <td>...</td>\n",
       "      <td>...</td>\n",
       "      <td>...</td>\n",
       "      <td>...</td>\n",
       "      <td>...</td>\n",
       "      <td>...</td>\n",
       "      <td>...</td>\n",
       "      <td>...</td>\n",
       "      <td>...</td>\n",
       "      <td>...</td>\n",
       "    </tr>\n",
       "    <tr>\n",
       "      <th>1939</th>\n",
       "      <td>-1.638356</td>\n",
       "      <td>-0.261392</td>\n",
       "      <td>-0.096674</td>\n",
       "      <td>-0.096674</td>\n",
       "      <td>-0.096674</td>\n",
       "      <td>-0.096674</td>\n",
       "      <td>-0.096674</td>\n",
       "      <td>-0.096674</td>\n",
       "      <td>-0.096674</td>\n",
       "      <td>-0.096674</td>\n",
       "      <td>...</td>\n",
       "      <td>10.344080</td>\n",
       "      <td>-0.096674</td>\n",
       "      <td>-0.096674</td>\n",
       "      <td>-0.096674</td>\n",
       "      <td>-0.096674</td>\n",
       "      <td>2.035401</td>\n",
       "      <td>-0.385922</td>\n",
       "      <td>-0.301511</td>\n",
       "      <td>-0.301511</td>\n",
       "      <td>-0.336752</td>\n",
       "    </tr>\n",
       "    <tr>\n",
       "      <th>1940</th>\n",
       "      <td>-1.638356</td>\n",
       "      <td>-0.224172</td>\n",
       "      <td>-0.096674</td>\n",
       "      <td>-0.096674</td>\n",
       "      <td>-0.096674</td>\n",
       "      <td>-0.096674</td>\n",
       "      <td>-0.096674</td>\n",
       "      <td>-0.096674</td>\n",
       "      <td>-0.096674</td>\n",
       "      <td>-0.096674</td>\n",
       "      <td>...</td>\n",
       "      <td>-0.096674</td>\n",
       "      <td>10.344080</td>\n",
       "      <td>-0.096674</td>\n",
       "      <td>-0.096674</td>\n",
       "      <td>-0.096674</td>\n",
       "      <td>-0.491304</td>\n",
       "      <td>-0.385922</td>\n",
       "      <td>-0.301511</td>\n",
       "      <td>-0.301511</td>\n",
       "      <td>2.969542</td>\n",
       "    </tr>\n",
       "    <tr>\n",
       "      <th>1941</th>\n",
       "      <td>-1.638356</td>\n",
       "      <td>0.878042</td>\n",
       "      <td>-0.096674</td>\n",
       "      <td>-0.096674</td>\n",
       "      <td>-0.096674</td>\n",
       "      <td>-0.096674</td>\n",
       "      <td>-0.096674</td>\n",
       "      <td>-0.096674</td>\n",
       "      <td>-0.096674</td>\n",
       "      <td>-0.096674</td>\n",
       "      <td>...</td>\n",
       "      <td>-0.096674</td>\n",
       "      <td>-0.096674</td>\n",
       "      <td>10.344080</td>\n",
       "      <td>-0.096674</td>\n",
       "      <td>-0.096674</td>\n",
       "      <td>-0.491304</td>\n",
       "      <td>2.591194</td>\n",
       "      <td>-0.301511</td>\n",
       "      <td>-0.301511</td>\n",
       "      <td>-0.336752</td>\n",
       "    </tr>\n",
       "    <tr>\n",
       "      <th>1942</th>\n",
       "      <td>-1.638356</td>\n",
       "      <td>-0.286218</td>\n",
       "      <td>-0.096674</td>\n",
       "      <td>-0.096674</td>\n",
       "      <td>-0.096674</td>\n",
       "      <td>-0.096674</td>\n",
       "      <td>-0.096674</td>\n",
       "      <td>-0.096674</td>\n",
       "      <td>-0.096674</td>\n",
       "      <td>-0.096674</td>\n",
       "      <td>...</td>\n",
       "      <td>-0.096674</td>\n",
       "      <td>-0.096674</td>\n",
       "      <td>-0.096674</td>\n",
       "      <td>10.344080</td>\n",
       "      <td>-0.096674</td>\n",
       "      <td>-0.491304</td>\n",
       "      <td>-0.385922</td>\n",
       "      <td>-0.301511</td>\n",
       "      <td>-0.301511</td>\n",
       "      <td>-0.336752</td>\n",
       "    </tr>\n",
       "    <tr>\n",
       "      <th>1943</th>\n",
       "      <td>-1.638356</td>\n",
       "      <td>-0.286218</td>\n",
       "      <td>-0.096674</td>\n",
       "      <td>-0.096674</td>\n",
       "      <td>-0.096674</td>\n",
       "      <td>-0.096674</td>\n",
       "      <td>-0.096674</td>\n",
       "      <td>-0.096674</td>\n",
       "      <td>-0.096674</td>\n",
       "      <td>-0.096674</td>\n",
       "      <td>...</td>\n",
       "      <td>-0.096674</td>\n",
       "      <td>-0.096674</td>\n",
       "      <td>-0.096674</td>\n",
       "      <td>-0.096674</td>\n",
       "      <td>10.344080</td>\n",
       "      <td>-0.491304</td>\n",
       "      <td>-0.385922</td>\n",
       "      <td>-0.301511</td>\n",
       "      <td>-0.301511</td>\n",
       "      <td>-0.336752</td>\n",
       "    </tr>\n",
       "  </tbody>\n",
       "</table>\n",
       "<p>1944 rows × 114 columns</p>\n",
       "</div>"
      ],
      "text/plain": [
       "           0         1          3          4          5          6    \\\n",
       "0     1.638356 -0.151150  -0.096674  -0.096674  -0.096674  -0.096674   \n",
       "1     1.638356 -0.286218  10.344080  -0.096674  -0.096674  -0.096674   \n",
       "2     1.638356  2.948919  -0.096674  10.344080  -0.096674  -0.096674   \n",
       "3     1.638356 -0.286218  -0.096674  -0.096674  10.344080  -0.096674   \n",
       "4     1.638356 -0.286218  -0.096674  -0.096674  -0.096674  10.344080   \n",
       "...        ...       ...        ...        ...        ...        ...   \n",
       "1939 -1.638356 -0.261392  -0.096674  -0.096674  -0.096674  -0.096674   \n",
       "1940 -1.638356 -0.224172  -0.096674  -0.096674  -0.096674  -0.096674   \n",
       "1941 -1.638356  0.878042  -0.096674  -0.096674  -0.096674  -0.096674   \n",
       "1942 -1.638356 -0.286218  -0.096674  -0.096674  -0.096674  -0.096674   \n",
       "1943 -1.638356 -0.286218  -0.096674  -0.096674  -0.096674  -0.096674   \n",
       "\n",
       "           7         8         9         10   ...        105        106  \\\n",
       "0    -0.096674 -0.096674 -0.096674 -0.096674  ...  -0.096674  -0.096674   \n",
       "1    -0.096674 -0.096674 -0.096674 -0.096674  ...  -0.096674  -0.096674   \n",
       "2    -0.096674 -0.096674 -0.096674 -0.096674  ...  -0.096674  -0.096674   \n",
       "3    -0.096674 -0.096674 -0.096674 -0.096674  ...  -0.096674  -0.096674   \n",
       "4    -0.096674 -0.096674 -0.096674 -0.096674  ...  -0.096674  -0.096674   \n",
       "...        ...       ...       ...       ...  ...        ...        ...   \n",
       "1939 -0.096674 -0.096674 -0.096674 -0.096674  ...  10.344080  -0.096674   \n",
       "1940 -0.096674 -0.096674 -0.096674 -0.096674  ...  -0.096674  10.344080   \n",
       "1941 -0.096674 -0.096674 -0.096674 -0.096674  ...  -0.096674  -0.096674   \n",
       "1942 -0.096674 -0.096674 -0.096674 -0.096674  ...  -0.096674  -0.096674   \n",
       "1943 -0.096674 -0.096674 -0.096674 -0.096674  ...  -0.096674  -0.096674   \n",
       "\n",
       "            107        108        109       110       111       112       113  \\\n",
       "0     -0.096674  -0.096674  -0.096674 -0.491304  2.591194 -0.301511 -0.301511   \n",
       "1     -0.096674  -0.096674  -0.096674 -0.491304 -0.385922 -0.301511 -0.301511   \n",
       "2     -0.096674  -0.096674  -0.096674 -0.491304 -0.385922 -0.301511 -0.301511   \n",
       "3     -0.096674  -0.096674  -0.096674  2.035401 -0.385922 -0.301511 -0.301511   \n",
       "4     -0.096674  -0.096674  -0.096674 -0.491304 -0.385922  3.316625 -0.301511   \n",
       "...         ...        ...        ...       ...       ...       ...       ...   \n",
       "1939  -0.096674  -0.096674  -0.096674  2.035401 -0.385922 -0.301511 -0.301511   \n",
       "1940  -0.096674  -0.096674  -0.096674 -0.491304 -0.385922 -0.301511 -0.301511   \n",
       "1941  10.344080  -0.096674  -0.096674 -0.491304  2.591194 -0.301511 -0.301511   \n",
       "1942  -0.096674  10.344080  -0.096674 -0.491304 -0.385922 -0.301511 -0.301511   \n",
       "1943  -0.096674  -0.096674  10.344080 -0.491304 -0.385922 -0.301511 -0.301511   \n",
       "\n",
       "           114  \n",
       "0    -0.336752  \n",
       "1    -0.336752  \n",
       "2    -0.336752  \n",
       "3    -0.336752  \n",
       "4    -0.336752  \n",
       "...        ...  \n",
       "1939 -0.336752  \n",
       "1940  2.969542  \n",
       "1941 -0.336752  \n",
       "1942 -0.336752  \n",
       "1943 -0.336752  \n",
       "\n",
       "[1944 rows x 114 columns]"
      ]
     },
     "execution_count": 41,
     "metadata": {},
     "output_type": "execute_result"
    }
   ],
   "source": [
    "X = sc_X.drop(columns = 2, axis=1).reset_index(drop=True)\n",
    "X"
   ]
  },
  {
   "cell_type": "code",
   "execution_count": 42,
   "metadata": {},
   "outputs": [],
   "source": [
    "from sklearn.metrics import r2_score"
   ]
  },
  {
   "cell_type": "code",
   "execution_count": 43,
   "metadata": {},
   "outputs": [],
   "source": [
    "from sklearn.model_selection import train_test_split\n",
    "X_train, X_test, y_train, y_test = train_test_split(X, y, test_size=0.33, random_state=42)"
   ]
  },
  {
   "cell_type": "markdown",
   "metadata": {},
   "source": [
    "# LINEAR REGRESSION"
   ]
  },
  {
   "cell_type": "code",
   "execution_count": 44,
   "metadata": {},
   "outputs": [],
   "source": [
    "from sklearn import linear_model\n",
    "import statsmodels.api as sm"
   ]
  },
  {
   "cell_type": "code",
   "execution_count": 45,
   "metadata": {},
   "outputs": [],
   "source": [
    "from sklearn.linear_model import LinearRegression\n",
    "lin_reg_mod = LinearRegression()\n"
   ]
  },
  {
   "cell_type": "code",
   "execution_count": 46,
   "metadata": {},
   "outputs": [
    {
     "data": {
      "text/plain": [
       "LinearRegression()"
      ]
     },
     "execution_count": 46,
     "metadata": {},
     "output_type": "execute_result"
    }
   ],
   "source": [
    "lin_reg_mod.fit(X_train, y_train)\n"
   ]
  },
  {
   "cell_type": "code",
   "execution_count": 47,
   "metadata": {},
   "outputs": [],
   "source": [
    "pred = lin_reg_mod.predict(X_test)\n"
   ]
  },
  {
   "cell_type": "code",
   "execution_count": 48,
   "metadata": {},
   "outputs": [],
   "source": [
    "from sklearn.metrics import mean_squared_error\n",
    "from sklearn.metrics import mean_absolute_error\n"
   ]
  },
  {
   "cell_type": "code",
   "execution_count": 49,
   "metadata": {},
   "outputs": [],
   "source": [
    "test_set_rmse = (np.sqrt(mean_squared_error(y_test, pred)))\n",
    "\n",
    "test_set_r2 = r2_score(y_test, pred)"
   ]
  },
  {
   "cell_type": "code",
   "execution_count": 50,
   "metadata": {},
   "outputs": [
    {
     "name": "stdout",
     "output_type": "stream",
     "text": [
      "0.6934803467355345\n",
      "0.5930797228204006\n"
     ]
    }
   ],
   "source": [
    "print(test_set_rmse)\n",
    "print(test_set_r2)"
   ]
  },
  {
   "cell_type": "code",
   "execution_count": 51,
   "metadata": {},
   "outputs": [
    {
     "data": {
      "text/plain": [
       "LinearRegression()"
      ]
     },
     "execution_count": 51,
     "metadata": {},
     "output_type": "execute_result"
    }
   ],
   "source": [
    "regr = linear_model.LinearRegression()\n",
    "regr.fit(X, y)\n"
   ]
  },
  {
   "cell_type": "code",
   "execution_count": 52,
   "metadata": {},
   "outputs": [
    {
     "name": "stdout",
     "output_type": "stream",
     "text": [
      "Intercept: \n",
      " [0.00052009]\n",
      "Coefficients: \n",
      " [[-3.42946648e-02  9.14003286e-02 -6.44981415e+11 -6.44981415e+11\n",
      "   1.80846559e+12 -9.05883029e+11 -9.05883029e+11 -8.14902150e+11\n",
      "   1.80846559e+12 -6.44981415e+11 -8.14902150e+11  1.80846559e+12\n",
      "  -6.44981415e+11  1.80846559e+12 -6.44981415e+11 -6.44981415e+11\n",
      "  -6.44981415e+11 -3.31424396e+12 -6.44981415e+11 -6.44981415e+11\n",
      "  -6.44981415e+11 -3.31424396e+12  1.80846559e+12 -6.44981415e+11\n",
      "   1.80846559e+12  1.80846559e+12 -6.44981415e+11 -3.31424396e+12\n",
      "  -6.44981415e+11  2.31575132e-03  1.80846559e+12  1.80846559e+12\n",
      "   1.16697820e-03  1.80846559e+12 -6.44981415e+11 -6.44981415e+11\n",
      "  -6.44981415e+11 -6.44981415e+11 -6.44981415e+11 -6.44981415e+11\n",
      "  -9.05883029e+11 -6.44981415e+11  1.80846559e+12 -6.44981415e+11\n",
      "  -6.44981415e+11  1.80846559e+12  1.80846559e+12  1.80846559e+12\n",
      "  -8.14902150e+11 -8.14902150e+11  2.30820806e-05  2.67859686e-04\n",
      "  -9.05883029e+11 -6.44981415e+11 -9.05883029e+11 -3.31424396e+12\n",
      "  -6.44981415e+11 -6.44981415e+11 -6.44981415e+11 -3.31424396e+12\n",
      "  -6.44981415e+11 -6.44981415e+11 -6.44981415e+11  1.80846559e+12\n",
      "   9.71152979e-04 -6.44981415e+11 -8.14902150e+11 -6.44981415e+11\n",
      "  -8.14902150e+11  1.80846559e+12 -6.44981415e+11 -6.44981415e+11\n",
      "   2.88494538e-04  7.49370552e-04  1.80846559e+12 -3.31424396e+12\n",
      "   1.80846559e+12  1.80846559e+12 -3.31424396e+12 -3.31424396e+12\n",
      "  -6.44981415e+11 -6.44981415e+11  8.57984832e-04 -6.44981415e+11\n",
      "  -6.44981415e+11 -3.31424396e+12  1.80373287e-04 -6.44981415e+11\n",
      "  -6.44981415e+11 -8.14902150e+11  2.63291934e-02  1.80846559e+12\n",
      "   5.92752002e-04 -9.05883029e+11 -8.14902150e+11 -8.14902150e+11\n",
      "  -6.44981415e+11 -9.05883029e+11 -9.05883029e+11 -6.44981415e+11\n",
      "  -1.14199820e-03 -6.44981415e+11 -9.05883029e+11 -3.31424396e+12\n",
      "   1.80846559e+12 -3.31424396e+12 -2.85384234e-04 -6.44981415e+11\n",
      "  -6.44981415e+11 -1.01380415e+13 -2.26195133e+12  7.52876479e+11\n",
      "   4.90335505e+11  8.42910789e+12]]\n"
     ]
    }
   ],
   "source": [
    "print('Intercept: \\n', regr.intercept_)\n",
    "print('Coefficients: \\n', regr.coef_)"
   ]
  },
  {
   "cell_type": "code",
   "execution_count": 53,
   "metadata": {},
   "outputs": [
    {
     "name": "stdout",
     "output_type": "stream",
     "text": [
      "                            OLS Regression Results                            \n",
      "==============================================================================\n",
      "Dep. Variable:                      2   R-squared:                       0.579\n",
      "Model:                            OLS   Adj. R-squared:                  0.554\n",
      "Method:                 Least Squares   F-statistic:                     23.16\n",
      "Date:                Mon, 08 Mar 2021   Prob (F-statistic):          1.87e-269\n",
      "Time:                        18:21:12   Log-Likelihood:                -1917.0\n",
      "No. Observations:                1944   AIC:                             4054.\n",
      "Df Residuals:                    1834   BIC:                             4667.\n",
      "Df Model:                         109                                         \n",
      "Covariance Type:            nonrobust                                         \n",
      "==============================================================================\n",
      "                 coef    std err          t      P>|t|      [0.025      0.975]\n",
      "------------------------------------------------------------------------------\n",
      "const         -0.0011      0.022     -0.049      0.961      -0.044       0.042\n",
      "0             -0.0342      0.016     -2.147      0.032      -0.065      -0.003\n",
      "1              0.0911      0.019      4.687      0.000       0.053       0.129\n",
      "3           9.769e+09   1.45e+11      0.067      0.946   -2.74e+11    2.94e+11\n",
      "4           9.769e+09   1.45e+11      0.067      0.946   -2.74e+11    2.94e+11\n",
      "5           1.036e+10   1.53e+11      0.067      0.946   -2.91e+11    3.11e+11\n",
      "6           9.912e+09   1.47e+11      0.067      0.946   -2.78e+11    2.98e+11\n",
      "7           9.912e+09   1.47e+11      0.067      0.946   -2.78e+11    2.98e+11\n",
      "8           1.069e+10   1.58e+11      0.067      0.946      -3e+11    3.21e+11\n",
      "9           1.036e+10   1.53e+11      0.067      0.946   -2.91e+11    3.11e+11\n",
      "10          9.769e+09   1.45e+11      0.067      0.946   -2.74e+11    2.94e+11\n",
      "11          1.069e+10   1.58e+11      0.067      0.946      -3e+11    3.21e+11\n",
      "12          1.036e+10   1.53e+11      0.067      0.946   -2.91e+11    3.11e+11\n",
      "13          9.769e+09   1.45e+11      0.067      0.946   -2.74e+11    2.94e+11\n",
      "14          1.036e+10   1.53e+11      0.067      0.946   -2.91e+11    3.11e+11\n",
      "15          9.769e+09   1.45e+11      0.067      0.946   -2.74e+11    2.94e+11\n",
      "16          9.769e+09   1.45e+11      0.067      0.946   -2.74e+11    2.94e+11\n",
      "17          9.769e+09   1.45e+11      0.067      0.946   -2.74e+11    2.94e+11\n",
      "18          1.323e+10   1.96e+11      0.067      0.946   -3.71e+11    3.98e+11\n",
      "19          9.769e+09   1.45e+11      0.067      0.946   -2.74e+11    2.94e+11\n",
      "20          9.769e+09   1.45e+11      0.067      0.946   -2.74e+11    2.94e+11\n",
      "21          9.769e+09   1.45e+11      0.067      0.946   -2.74e+11    2.94e+11\n",
      "22          1.323e+10   1.96e+11      0.067      0.946   -3.71e+11    3.98e+11\n",
      "23          1.036e+10   1.53e+11      0.067      0.946   -2.91e+11    3.11e+11\n",
      "24          9.769e+09   1.45e+11      0.067      0.946   -2.74e+11    2.94e+11\n",
      "25          1.036e+10   1.53e+11      0.067      0.946   -2.91e+11    3.11e+11\n",
      "26          1.036e+10   1.53e+11      0.067      0.946   -2.91e+11    3.11e+11\n",
      "27          9.769e+09   1.45e+11      0.067      0.946   -2.74e+11    2.94e+11\n",
      "28          1.323e+10   1.96e+11      0.067      0.946   -3.71e+11    3.98e+11\n",
      "29          9.769e+09   1.45e+11      0.067      0.946   -2.74e+11    2.94e+11\n",
      "30             0.0008      0.022      0.037      0.970      -0.042       0.043\n",
      "31          1.036e+10   1.53e+11      0.067      0.946   -2.91e+11    3.11e+11\n",
      "32          1.036e+10   1.53e+11      0.067      0.946   -2.91e+11    3.11e+11\n",
      "33             0.0007      0.022      0.032      0.974      -0.042       0.043\n",
      "34          1.036e+10   1.53e+11      0.067      0.946   -2.91e+11    3.11e+11\n",
      "35          9.769e+09   1.45e+11      0.067      0.946   -2.74e+11    2.94e+11\n",
      "36          9.769e+09   1.45e+11      0.067      0.946   -2.74e+11    2.94e+11\n",
      "37          9.769e+09   1.45e+11      0.067      0.946   -2.74e+11    2.94e+11\n",
      "38          9.769e+09   1.45e+11      0.067      0.946   -2.74e+11    2.94e+11\n",
      "39          9.769e+09   1.45e+11      0.067      0.946   -2.74e+11    2.94e+11\n",
      "40          9.769e+09   1.45e+11      0.067      0.946   -2.74e+11    2.94e+11\n",
      "41          9.912e+09   1.47e+11      0.067      0.946   -2.78e+11    2.98e+11\n",
      "42          9.769e+09   1.45e+11      0.067      0.946   -2.74e+11    2.94e+11\n",
      "43          1.036e+10   1.53e+11      0.067      0.946   -2.91e+11    3.11e+11\n",
      "44          9.769e+09   1.45e+11      0.067      0.946   -2.74e+11    2.94e+11\n",
      "45          9.769e+09   1.45e+11      0.067      0.946   -2.74e+11    2.94e+11\n",
      "46          1.036e+10   1.53e+11      0.067      0.946   -2.91e+11    3.11e+11\n",
      "47          1.036e+10   1.53e+11      0.067      0.946   -2.91e+11    3.11e+11\n",
      "48          1.036e+10   1.53e+11      0.067      0.946   -2.91e+11    3.11e+11\n",
      "49          1.069e+10   1.58e+11      0.067      0.946      -3e+11    3.21e+11\n",
      "50          1.069e+10   1.58e+11      0.067      0.946      -3e+11    3.21e+11\n",
      "51             0.0007      0.022      0.031      0.975      -0.042       0.043\n",
      "52             0.0007      0.022      0.032      0.975      -0.042       0.043\n",
      "53          9.912e+09   1.47e+11      0.067      0.946   -2.78e+11    2.98e+11\n",
      "54          9.769e+09   1.45e+11      0.067      0.946   -2.74e+11    2.94e+11\n",
      "55          9.912e+09   1.47e+11      0.067      0.946   -2.78e+11    2.98e+11\n",
      "56          1.323e+10   1.96e+11      0.067      0.946   -3.71e+11    3.98e+11\n",
      "57          9.769e+09   1.45e+11      0.067      0.946   -2.74e+11    2.94e+11\n",
      "58          9.769e+09   1.45e+11      0.067      0.946   -2.74e+11    2.94e+11\n",
      "59          9.769e+09   1.45e+11      0.067      0.946   -2.74e+11    2.94e+11\n",
      "60          1.323e+10   1.96e+11      0.067      0.946   -3.71e+11    3.98e+11\n",
      "61          9.769e+09   1.45e+11      0.067      0.946   -2.74e+11    2.94e+11\n",
      "62          9.769e+09   1.45e+11      0.067      0.946   -2.74e+11    2.94e+11\n",
      "63          9.769e+09   1.45e+11      0.067      0.946   -2.74e+11    2.94e+11\n",
      "64          1.036e+10   1.53e+11      0.067      0.946   -2.91e+11    3.11e+11\n",
      "65             0.0007      0.022      0.033      0.974      -0.042       0.043\n",
      "66          9.769e+09   1.45e+11      0.067      0.946   -2.74e+11    2.94e+11\n",
      "67          1.069e+10   1.58e+11      0.067      0.946      -3e+11    3.21e+11\n",
      "68          9.769e+09   1.45e+11      0.067      0.946   -2.74e+11    2.94e+11\n",
      "69          1.069e+10   1.58e+11      0.067      0.946      -3e+11    3.21e+11\n",
      "70          1.036e+10   1.53e+11      0.067      0.946   -2.91e+11    3.11e+11\n",
      "71          9.769e+09   1.45e+11      0.067      0.946   -2.74e+11    2.94e+11\n",
      "72          9.769e+09   1.45e+11      0.067      0.946   -2.74e+11    2.94e+11\n",
      "73             0.0007      0.022      0.032      0.974      -0.042       0.043\n",
      "74             0.0004      0.022      0.017      0.986      -0.042       0.043\n",
      "75          1.036e+10   1.53e+11      0.067      0.946   -2.91e+11    3.11e+11\n",
      "76          1.323e+10   1.96e+11      0.067      0.946   -3.71e+11    3.98e+11\n",
      "77          1.036e+10   1.53e+11      0.067      0.946   -2.91e+11    3.11e+11\n",
      "78          1.036e+10   1.53e+11      0.067      0.946   -2.91e+11    3.11e+11\n",
      "79          1.323e+10   1.96e+11      0.067      0.946   -3.71e+11    3.98e+11\n",
      "80          1.323e+10   1.96e+11      0.067      0.946   -3.71e+11    3.98e+11\n",
      "81          9.769e+09   1.45e+11      0.067      0.946   -2.74e+11    2.94e+11\n",
      "82          9.769e+09   1.45e+11      0.067      0.946   -2.74e+11    2.94e+11\n",
      "83             0.0007      0.022      0.032      0.975      -0.042       0.043\n",
      "84          9.769e+09   1.45e+11      0.067      0.946   -2.74e+11    2.94e+11\n",
      "85          9.769e+09   1.45e+11      0.067      0.946   -2.74e+11    2.94e+11\n",
      "86          1.323e+10   1.96e+11      0.067      0.946   -3.71e+11    3.98e+11\n",
      "87             0.0012      0.022      0.055      0.956      -0.041       0.044\n",
      "88          9.769e+09   1.45e+11      0.067      0.946   -2.74e+11    2.94e+11\n",
      "89          9.769e+09   1.45e+11      0.067      0.946   -2.74e+11    2.94e+11\n",
      "90          1.069e+10   1.58e+11      0.067      0.946      -3e+11    3.21e+11\n",
      "91             0.0287      0.022      1.324      0.186      -0.014       0.071\n",
      "92          1.036e+10   1.53e+11      0.067      0.946   -2.91e+11    3.11e+11\n",
      "93             0.0007      0.022      0.033      0.974      -0.042       0.043\n",
      "94          9.912e+09   1.47e+11      0.067      0.946   -2.78e+11    2.98e+11\n",
      "95          1.069e+10   1.58e+11      0.067      0.946      -3e+11    3.21e+11\n",
      "96          1.069e+10   1.58e+11      0.067      0.946      -3e+11    3.21e+11\n",
      "97          9.769e+09   1.45e+11      0.067      0.946   -2.74e+11    2.94e+11\n",
      "98          9.912e+09   1.47e+11      0.067      0.946   -2.78e+11    2.98e+11\n",
      "99          9.912e+09   1.47e+11      0.067      0.946   -2.78e+11    2.98e+11\n",
      "100         9.769e+09   1.45e+11      0.067      0.946   -2.74e+11    2.94e+11\n",
      "101            0.0007      0.022      0.032      0.974      -0.042       0.043\n",
      "102         9.769e+09   1.45e+11      0.067      0.946   -2.74e+11    2.94e+11\n",
      "103         9.912e+09   1.47e+11      0.067      0.946   -2.78e+11    2.98e+11\n",
      "104         1.323e+10   1.96e+11      0.067      0.946   -3.71e+11    3.98e+11\n",
      "105         1.036e+10   1.53e+11      0.067      0.946   -2.91e+11    3.11e+11\n",
      "106         1.323e+10   1.96e+11      0.067      0.946   -3.71e+11    3.98e+11\n",
      "107            0.0004      0.022      0.016      0.987      -0.042       0.043\n",
      "108         9.769e+09   1.45e+11      0.067      0.946   -2.74e+11    2.94e+11\n",
      "109         9.769e+09   1.45e+11      0.067      0.946   -2.74e+11    2.94e+11\n",
      "110        -2.437e+09   3.61e+10     -0.067      0.946   -7.33e+10    6.84e+10\n",
      "111         3.426e+10   5.08e+11      0.067      0.946   -9.61e+11    1.03e+12\n",
      "112        -4.135e+08   6.13e+09     -0.067      0.946   -1.24e+10    1.16e+10\n",
      "113        -2.666e+09   3.95e+10     -0.067      0.946   -8.01e+10    7.48e+10\n",
      "114        -1.092e+10   1.62e+11     -0.067      0.946   -3.28e+11    3.07e+11\n",
      "==============================================================================\n",
      "Omnibus:                     1476.856   Durbin-Watson:                   2.004\n",
      "Prob(Omnibus):                  0.000   Jarque-Bera (JB):           356239.240\n",
      "Skew:                           2.566   Prob(JB):                         0.00\n",
      "Kurtosis:                      69.119   Cond. No.                     1.95e+15\n",
      "==============================================================================\n",
      "\n",
      "Warnings:\n",
      "[1] Standard Errors assume that the covariance matrix of the errors is correctly specified.\n",
      "[2] The smallest eigenvalue is 1.13e-27. This might indicate that there are\n",
      "strong multicollinearity problems or that the design matrix is singular.\n"
     ]
    },
    {
     "name": "stderr",
     "output_type": "stream",
     "text": [
      "C:\\Users\\Dell\\Anaconda3\\lib\\site-packages\\numpy\\core\\fromnumeric.py:2495: FutureWarning: Method .ptp is deprecated and will be removed in a future version. Use numpy.ptp instead.\n",
      "  return ptp(axis=axis, out=out, **kwargs)\n"
     ]
    }
   ],
   "source": [
    "X = sm.add_constant(X) # adding a constant\n",
    " \n",
    "model = sm.OLS(y, X).fit()\n",
    "predictions = model.predict(X) \n",
    " \n",
    "print_model = model.summary()\n",
    "print(print_model)"
   ]
  },
  {
   "cell_type": "markdown",
   "metadata": {},
   "source": [
    "# DECISION TREE"
   ]
  },
  {
   "cell_type": "code",
   "execution_count": 83,
   "metadata": {},
   "outputs": [],
   "source": [
    "from sklearn.tree import DecisionTreeRegressor  \n"
   ]
  },
  {
   "cell_type": "code",
   "execution_count": 85,
   "metadata": {},
   "outputs": [],
   "source": [
    "dt = DecisionTreeRegressor(random_state = 0)  \n"
   ]
  },
  {
   "cell_type": "code",
   "execution_count": 86,
   "metadata": {},
   "outputs": [
    {
     "data": {
      "text/plain": [
       "DecisionTreeRegressor(random_state=0)"
      ]
     },
     "execution_count": 86,
     "metadata": {},
     "output_type": "execute_result"
    }
   ],
   "source": [
    "dt.fit(X_train,y_train)"
   ]
  },
  {
   "cell_type": "code",
   "execution_count": 88,
   "metadata": {},
   "outputs": [],
   "source": [
    "dt_pred = dt.predict(X_test)"
   ]
  },
  {
   "cell_type": "code",
   "execution_count": 89,
   "metadata": {},
   "outputs": [
    {
     "data": {
      "text/plain": [
       "0.798374375916277"
      ]
     },
     "execution_count": 89,
     "metadata": {},
     "output_type": "execute_result"
    }
   ],
   "source": [
    "r2_score(y_test, dt_pred)"
   ]
  },
  {
   "cell_type": "code",
   "execution_count": 91,
   "metadata": {},
   "outputs": [],
   "source": [
    "dt_train_pred = dt.predict(X_train)"
   ]
  },
  {
   "cell_type": "code",
   "execution_count": 108,
   "metadata": {},
   "outputs": [],
   "source": [
    "from scipy.stats import randint\n"
   ]
  },
  {
   "cell_type": "code",
   "execution_count": null,
   "metadata": {},
   "outputs": [],
   "source": []
  },
  {
   "cell_type": "code",
   "execution_count": null,
   "metadata": {},
   "outputs": [],
   "source": []
  },
  {
   "cell_type": "markdown",
   "metadata": {},
   "source": [
    "# RANDOM FOREST"
   ]
  },
  {
   "cell_type": "code",
   "execution_count": 54,
   "metadata": {},
   "outputs": [],
   "source": [
    "from sklearn.ensemble import RandomForestRegressor"
   ]
  },
  {
   "cell_type": "code",
   "execution_count": 55,
   "metadata": {},
   "outputs": [],
   "source": [
    "rf = RandomForestRegressor(random_state = 42)"
   ]
  },
  {
   "cell_type": "code",
   "execution_count": 56,
   "metadata": {},
   "outputs": [
    {
     "name": "stderr",
     "output_type": "stream",
     "text": [
      "C:\\Users\\Dell\\Anaconda3\\lib\\site-packages\\ipykernel_launcher.py:1: DataConversionWarning: A column-vector y was passed when a 1d array was expected. Please change the shape of y to (n_samples,), for example using ravel().\n",
      "  \"\"\"Entry point for launching an IPython kernel.\n"
     ]
    },
    {
     "data": {
      "text/plain": [
       "RandomForestRegressor(random_state=42)"
      ]
     },
     "execution_count": 56,
     "metadata": {},
     "output_type": "execute_result"
    }
   ],
   "source": [
    "rf.fit(X_train,y_train)"
   ]
  },
  {
   "cell_type": "code",
   "execution_count": 57,
   "metadata": {},
   "outputs": [],
   "source": [
    "yp = rf.predict(X_test)"
   ]
  },
  {
   "cell_type": "code",
   "execution_count": 63,
   "metadata": {},
   "outputs": [
    {
     "data": {
      "text/plain": [
       "0.8402745813538406"
      ]
     },
     "execution_count": 63,
     "metadata": {},
     "output_type": "execute_result"
    }
   ],
   "source": [
    "r2_score(y_test, yp)"
   ]
  },
  {
   "cell_type": "code",
   "execution_count": 60,
   "metadata": {},
   "outputs": [],
   "source": [
    "tarinpred = rf.predict(X_train)"
   ]
  },
  {
   "cell_type": "code",
   "execution_count": 62,
   "metadata": {},
   "outputs": [
    {
     "data": {
      "text/plain": [
       "0.9701739578091365"
      ]
     },
     "execution_count": 62,
     "metadata": {},
     "output_type": "execute_result"
    }
   ],
   "source": [
    "r2_score(y_train, tarinpred)"
   ]
  },
  {
   "cell_type": "code",
   "execution_count": 64,
   "metadata": {},
   "outputs": [
    {
     "data": {
      "text/html": [
       "<div>\n",
       "<style scoped>\n",
       "    .dataframe tbody tr th:only-of-type {\n",
       "        vertical-align: middle;\n",
       "    }\n",
       "\n",
       "    .dataframe tbody tr th {\n",
       "        vertical-align: top;\n",
       "    }\n",
       "\n",
       "    .dataframe thead th {\n",
       "        text-align: right;\n",
       "    }\n",
       "</style>\n",
       "<table border=\"1\" class=\"dataframe\">\n",
       "  <thead>\n",
       "    <tr style=\"text-align: right;\">\n",
       "      <th></th>\n",
       "      <th>param_n_estimators</th>\n",
       "      <th>param_max_features</th>\n",
       "      <th>param_max_depth</th>\n",
       "      <th>param_min_samples_split</th>\n",
       "      <th>param_min_samples_leaf</th>\n",
       "      <th>param_bootstrap</th>\n",
       "      <th>mean_test_score</th>\n",
       "    </tr>\n",
       "  </thead>\n",
       "  <tbody>\n",
       "    <tr>\n",
       "      <th>0</th>\n",
       "      <td>1400</td>\n",
       "      <td>sqrt</td>\n",
       "      <td>40</td>\n",
       "      <td>10</td>\n",
       "      <td>2</td>\n",
       "      <td>True</td>\n",
       "      <td>0.814015</td>\n",
       "    </tr>\n",
       "    <tr>\n",
       "      <th>1</th>\n",
       "      <td>600</td>\n",
       "      <td>auto</td>\n",
       "      <td>10</td>\n",
       "      <td>5</td>\n",
       "      <td>1</td>\n",
       "      <td>False</td>\n",
       "      <td>0.985935</td>\n",
       "    </tr>\n",
       "  </tbody>\n",
       "</table>\n",
       "</div>"
      ],
      "text/plain": [
       "  param_n_estimators param_max_features param_max_depth  \\\n",
       "0               1400               sqrt              40   \n",
       "1                600               auto              10   \n",
       "\n",
       "  param_min_samples_split param_min_samples_leaf param_bootstrap  \\\n",
       "0                      10                      2            True   \n",
       "1                       5                      1           False   \n",
       "\n",
       "   mean_test_score  \n",
       "0         0.814015  \n",
       "1         0.985935  "
      ]
     },
     "execution_count": 64,
     "metadata": {},
     "output_type": "execute_result"
    }
   ],
   "source": [
    "from sklearn.model_selection import RandomizedSearchCV\n",
    "rs = RandomizedSearchCV(RandomForestRegressor(random_state = 42), {\n",
    "        'n_estimators' : [int(x) for x in np.linspace(start = 200, stop = 2000, num = 10)],\n",
    "        'max_features' : ['auto', 'sqrt'],\n",
    "        'max_depth' : [int(x) for x in np.linspace(10, 110, num = 11)],\n",
    "        'min_samples_split' : [2, 5, 10],\n",
    "        'min_samples_leaf' : [1, 2, 4],\n",
    "        'bootstrap' : [True, False]\n",
    "    }, \n",
    "    cv=5, \n",
    "    return_train_score=False, \n",
    "    n_iter=2\n",
    ")\n",
    "rs.fit(reports, reports['No. of deaths'])\n",
    "pd.DataFrame(rs.cv_results_)[['param_n_estimators','param_max_features','param_max_depth','param_min_samples_split','param_min_samples_leaf','param_bootstrap','mean_test_score']]"
   ]
  },
  {
   "cell_type": "code",
   "execution_count": 104,
   "metadata": {},
   "outputs": [
    {
     "data": {
      "text/plain": [
       "{'n_estimators': 600,\n",
       " 'min_samples_split': 5,\n",
       " 'min_samples_leaf': 1,\n",
       " 'max_features': 'auto',\n",
       " 'max_depth': 10,\n",
       " 'bootstrap': False}"
      ]
     },
     "execution_count": 104,
     "metadata": {},
     "output_type": "execute_result"
    }
   ],
   "source": [
    "rs.best_params_"
   ]
  },
  {
   "cell_type": "code",
   "execution_count": 77,
   "metadata": {},
   "outputs": [],
   "source": [
    "rf = RandomForestRegressor(n_estimators = 600,min_samples_split = 5,min_samples_leaf = 1,max_features = 'auto',max_depth = 10,bootstrap = False)"
   ]
  },
  {
   "cell_type": "code",
   "execution_count": 78,
   "metadata": {},
   "outputs": [
    {
     "name": "stderr",
     "output_type": "stream",
     "text": [
      "C:\\Users\\Dell\\Anaconda3\\lib\\site-packages\\ipykernel_launcher.py:1: DataConversionWarning: A column-vector y was passed when a 1d array was expected. Please change the shape of y to (n_samples,), for example using ravel().\n",
      "  \"\"\"Entry point for launching an IPython kernel.\n"
     ]
    },
    {
     "data": {
      "text/plain": [
       "RandomForestRegressor(bootstrap=False, max_depth=10, min_samples_split=5,\n",
       "                      n_estimators=600)"
      ]
     },
     "execution_count": 78,
     "metadata": {},
     "output_type": "execute_result"
    }
   ],
   "source": [
    "rf.fit(X_train,y_train)"
   ]
  },
  {
   "cell_type": "code",
   "execution_count": 79,
   "metadata": {},
   "outputs": [],
   "source": [
    "pr = rf.predict(X_test)"
   ]
  },
  {
   "cell_type": "code",
   "execution_count": 80,
   "metadata": {},
   "outputs": [
    {
     "data": {
      "text/plain": [
       "0.8740527116319945"
      ]
     },
     "execution_count": 80,
     "metadata": {},
     "output_type": "execute_result"
    }
   ],
   "source": [
    "r2_score(y_test, pr)"
   ]
  },
  {
   "cell_type": "code",
   "execution_count": 81,
   "metadata": {},
   "outputs": [],
   "source": [
    "tarinpred = rf.predict(X_train)"
   ]
  },
  {
   "cell_type": "code",
   "execution_count": 82,
   "metadata": {},
   "outputs": [
    {
     "data": {
      "text/plain": [
       "0.8939702763327111"
      ]
     },
     "execution_count": 82,
     "metadata": {},
     "output_type": "execute_result"
    }
   ],
   "source": [
    "r2_score(y_train, tarinpred)"
   ]
  },
  {
   "cell_type": "code",
   "execution_count": null,
   "metadata": {},
   "outputs": [],
   "source": []
  }
 ],
 "metadata": {
  "kernelspec": {
   "display_name": "Python 3",
   "language": "python",
   "name": "python3"
  },
  "language_info": {
   "codemirror_mode": {
    "name": "ipython",
    "version": 3
   },
   "file_extension": ".py",
   "mimetype": "text/x-python",
   "name": "python",
   "nbconvert_exporter": "python",
   "pygments_lexer": "ipython3",
   "version": "3.7.3"
  }
 },
 "nbformat": 4,
 "nbformat_minor": 4
}
